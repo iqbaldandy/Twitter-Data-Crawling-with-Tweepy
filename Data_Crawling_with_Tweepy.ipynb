{
  "nbformat": 4,
  "nbformat_minor": 0,
  "metadata": {
    "colab": {
      "name": "Data Crawling with Tweepy.ipynb",
      "provenance": [],
      "collapsed_sections": []
    },
    "kernelspec": {
      "name": "python3",
      "display_name": "Python 3"
    }
  },
  "cells": [
    {
      "cell_type": "code",
      "metadata": {
        "id": "KLUeVzq81ybC",
        "colab": {
          "base_uri": "https://localhost:8080/",
          "height": 207
        },
        "outputId": "f491bb93-4a3a-4364-ff7c-91ed55a41508"
      },
      "source": [
        " pip install tweepy"
      ],
      "execution_count": null,
      "outputs": [
        {
          "output_type": "stream",
          "text": [
            "Requirement already satisfied: tweepy in /usr/local/lib/python3.6/dist-packages (3.6.0)\n",
            "Requirement already satisfied: requests>=2.11.1 in /usr/local/lib/python3.6/dist-packages (from tweepy) (2.23.0)\n",
            "Requirement already satisfied: six>=1.10.0 in /usr/local/lib/python3.6/dist-packages (from tweepy) (1.15.0)\n",
            "Requirement already satisfied: requests-oauthlib>=0.7.0 in /usr/local/lib/python3.6/dist-packages (from tweepy) (1.3.0)\n",
            "Requirement already satisfied: PySocks>=1.5.7 in /usr/local/lib/python3.6/dist-packages (from tweepy) (1.7.1)\n",
            "Requirement already satisfied: certifi>=2017.4.17 in /usr/local/lib/python3.6/dist-packages (from requests>=2.11.1->tweepy) (2020.6.20)\n",
            "Requirement already satisfied: idna<3,>=2.5 in /usr/local/lib/python3.6/dist-packages (from requests>=2.11.1->tweepy) (2.10)\n",
            "Requirement already satisfied: urllib3!=1.25.0,!=1.25.1,<1.26,>=1.21.1 in /usr/local/lib/python3.6/dist-packages (from requests>=2.11.1->tweepy) (1.24.3)\n",
            "Requirement already satisfied: chardet<4,>=3.0.2 in /usr/local/lib/python3.6/dist-packages (from requests>=2.11.1->tweepy) (3.0.4)\n",
            "Requirement already satisfied: oauthlib>=3.0.0 in /usr/local/lib/python3.6/dist-packages (from requests-oauthlib>=0.7.0->tweepy) (3.1.0)\n"
          ],
          "name": "stdout"
        }
      ]
    },
    {
      "cell_type": "code",
      "metadata": {
        "id": "QSoLhCL810n6"
      },
      "source": [
        "#Import library\n",
        "import tweepy\n",
        "from tweepy.streaming import StreamListener\n",
        "from tweepy import OAuthHandler\n",
        "import csv\n",
        "import numpy as np\n",
        "import pandas as pd\n",
        "from PIL import Image\n",
        "from wordcloud import WordCloud, STOPWORDS, ImageColorGenerator\n",
        "\n",
        "import matplotlib.pyplot as plt\n",
        "% matplotlib inline"
      ],
      "execution_count": null,
      "outputs": []
    },
    {
      "cell_type": "code",
      "metadata": {
        "id": "Ib8COG1z155r"
      },
      "source": [
        "#API KEY\n",
        "#Insert ur Twitter Developer Key and Token here\n",
        "consumer_key = \"\"\n",
        "consumer_secret = \"\"\n",
        "access_token = \"\"\n",
        "access_token_secret = \"\"\n",
        "\n",
        "auth = OAuthHandler(consumer_key,consumer_secret)\n",
        "auth.set_access_token(access_token,access_token_secret)\n",
        "\n",
        "api = tweepy.API(auth)"
      ],
      "execution_count": null,
      "outputs": []
    },
    {
      "cell_type": "code",
      "metadata": {
        "id": "DFEF2NiwEOQU",
        "colab": {
          "base_uri": "https://localhost:8080/",
          "height": 34
        },
        "outputId": "a7d3d47f-ddf8-4e7a-a995-8888ad4502c9"
      },
      "source": [
        "# Open/create a file to append data to\n",
        "csvFile = open('result.csv', 'a')\n",
        "\n",
        "#Use csv writer\n",
        "csvWriter = csv.writer(csvFile)\n",
        "csvWriter.writerow(['User Name','Tweet','Tweeted At','Likes','Retweet'])"
      ],
      "execution_count": null,
      "outputs": [
        {
          "output_type": "execute_result",
          "data": {
            "text/plain": [
              "42"
            ]
          },
          "metadata": {
            "tags": []
          },
          "execution_count": 19
        }
      ]
    },
    {
      "cell_type": "code",
      "metadata": {
        "id": "_UqDkHcs1_ph",
        "colab": {
          "base_uri": "https://localhost:8080/",
          "height": 51
        },
        "outputId": "0438899a-e766-4388-9a1f-c2023cbd6631"
      },
      "source": [
        "# 1. Build a crawler that collects a user's profile information from Twitter given the user's Twitter ID\n",
        "user = api.get_user('iqbaldandy')\n",
        "print(\"Username:\", user.screen_name)\n",
        "print(\"User bio:\", user.description)"
      ],
      "execution_count": null,
      "outputs": [
        {
          "output_type": "stream",
          "text": [
            "Username: iqbaldandy\n",
            "User bio: Ordinary Javanese Boy\n"
          ],
          "name": "stdout"
        }
      ]
    },
    {
      "cell_type": "code",
      "metadata": {
        "id": "pOFvF0bxOd80",
        "colab": {
          "base_uri": "https://localhost:8080/",
          "height": 51
        },
        "outputId": "865c7f58-3e21-40df-eb40-2c761647cb18"
      },
      "source": [
        "# 2. Build a crawler that collects a user's social network information given the user's ID\n",
        "print(\"Followers:\", user.followers_count)\n",
        "i = 0\n",
        "for user in tweepy.Cursor(api.friends, screen_name=\"iqbaldandy\").items():\n",
        "  i = i+1\n",
        "print(\"Following:\", i)"
      ],
      "execution_count": null,
      "outputs": [
        {
          "output_type": "stream",
          "text": [
            "Followers: 110\n",
            "Following: 133\n"
          ],
          "name": "stdout"
        }
      ]
    },
    {
      "cell_type": "code",
      "metadata": {
        "id": "CuWGc3Fw2MZk"
      },
      "source": [
        "# 3. Build a crawler that collects the tweets using a set of specified keywords and a geolocation based criteria\n",
        "for tweet in tweepy.Cursor(api.search,q=\"#REFORMASIDIKORUPSI\",since=\"2020-07-01\",until=\"2020-10-09\", ).items(200):\n",
        "  if ('RT @' not in tweet.text):\n",
        "    #print(tweet.user.screen_name, tweet.text('utf-8'), tweet.created_at, tweet.favorite_count, tweet.retweet_count)\n",
        "    csvWriter.writerow([tweet.user.screen_name, tweet.text.encode('utf-8'), tweet.created_at, tweet.favorite_count, tweet.retweet_count])\n",
        "csvFile.close()"
      ],
      "execution_count": null,
      "outputs": []
    },
    {
      "cell_type": "code",
      "metadata": {
        "id": "HUhvPIWP2QhW"
      },
      "source": [
        "df = pd.read_csv(\"result.csv\")"
      ],
      "execution_count": null,
      "outputs": []
    },
    {
      "cell_type": "code",
      "metadata": {
        "id": "EsmejqBDwDrY",
        "colab": {
          "base_uri": "https://localhost:8080/",
          "height": 391
        },
        "outputId": "e7dea4ad-c79c-4f7c-8516-d94ccb06de89"
      },
      "source": [
        "df.Tweet"
      ],
      "execution_count": null,
      "outputs": [
        {
          "output_type": "execute_result",
          "data": {
            "text/plain": [
              "User Name\n",
              "TamamMohammad2     b'RT @LBH_Jakarta: \\xe2\\x80\\x9cURGENT ACTION\"\\...\n",
              "rofiridho          b'RT @juarasatumulu: Teman2 semua mohon bantua...\n",
              "agus8876           b'RT @LBH_Jakarta: \\xe2\\x80\\x9cURGENT ACTION\"\\...\n",
              "nupangsaena1       b'RT @LBH_Jakarta: \\xe2\\x80\\x9cURGENT ACTION\"\\...\n",
              "mudjib_trisatya    b'RT @LBH_Jakarta: \\xe2\\x80\\x9cURGENT ACTION\"\\...\n",
              "RidwanDmr          b'RT @LBH_Jakarta: Berikut Update sementara Ho...\n",
              "Josephm71495315    b'RT @nvvnvv__: Keren ya kerjanya Puan Maharan...\n",
              "LauraFadillah1     b'RT @LBH_Jakarta: \\xe2\\x80\\x9cURGENT ACTION\"\\...\n",
              "jejakachev         b'pray for indonesia #\\xea\\xb5\\xbf\\xeb\\xb0\\x94...\n",
              "mtrfb_             b'@sygharrystyles Hai ka, maaf numpang promosi...\n",
              "babymochii00       b'RT @juarasatumulu: Teman2 semua mohon bantua...\n",
              "Maulanaalkhair     b'RT @LBH_Jakarta: \\xe2\\x80\\x9cURGENT ACTION\"\\...\n",
              "mtrfb_             b'@gabisakurangci Hai ka, maaf numpang promosi...\n",
              "dampiero10         b'RT @LBH_Jakarta: \\xe2\\x80\\x9cURGENT ACTION\"\\...\n",
              "mtrfb_             b'@ursadqueen Hai ka, maaf numpang promosi ya,...\n",
              "mtrfb_             b'@NetizenJulidz Hai ka, maaf numpang promosi ...\n",
              "AnissaSyahrina     b'RT @juarasatumulu: Teman2 semua mohon bantua...\n",
              "IbrahimAlMadan8    b'RT @LBH_Jakarta: \\xe2\\x80\\x9cURGENT ACTION\"\\...\n",
              "cewekyutt          b'RT @juarasatumulu: Teman2 semua mohon bantua...\n",
              "mtrfb_             b'@anggarasukardi Hai ka, maaf numpang promosi...\n",
              "Name: Tweet, dtype: object"
            ]
          },
          "metadata": {
            "tags": []
          },
          "execution_count": 11
        }
      ]
    }
  ]
}